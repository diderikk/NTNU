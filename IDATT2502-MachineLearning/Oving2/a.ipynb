{
 "cells": [
  {
   "cell_type": "code",
   "execution_count": 1,
   "source": [
    "import matplotlib.pyplot as plt\n",
    "import torch"
   ],
   "outputs": [],
   "metadata": {}
  },
  {
   "cell_type": "code",
   "execution_count": 2,
   "source": [
    "x_train = torch.tensor([[1.0], [0.0]])\n",
    "y_train = torch.tensor([[0.0], [1.0]])"
   ],
   "outputs": [],
   "metadata": {}
  },
  {
   "cell_type": "code",
   "execution_count": 3,
   "source": [
    "class NotOperatorNN:\n",
    "\tdef __init__(self):\n",
    "\t\tself.W = torch.tensor([[1.0]], requires_grad=True)\n",
    "\t\tself.b = torch.tensor([[1.0]], requires_grad=True)\n",
    "\t\n",
    "\tdef f(self, x):\n",
    "\t\treturn torch.sigmoid(x @ self.W + self.b)\n",
    "\n",
    "\tdef logit(self, x):\n",
    "\t\treturn (x @ self.W + self.b)\n",
    "\n",
    "\tdef loss(self, x, y):\n",
    "\t\t# return -torch.mean(torch.multiply(y, torch.log(self.f(x))) + torch.multiply((1-y), torch.log(1 - self.f(x))))\n",
    "\t\treturn torch.nn.functional.binary_cross_entropy_with_logits(self.logit(x), y)"
   ],
   "outputs": [],
   "metadata": {}
  },
  {
   "cell_type": "code",
   "execution_count": 4,
   "source": [
    "model = NotOperatorNN()\n",
    "optimizer = torch.optim.SGD([model.W, model.b], lr=10)"
   ],
   "outputs": [],
   "metadata": {}
  },
  {
   "cell_type": "code",
   "execution_count": 5,
   "source": [
    "for epoch in range(10000):\n",
    "\tmodel.loss(x_train, y_train).backward()\n",
    "\toptimizer.step()\n",
    "\toptimizer.zero_grad()"
   ],
   "outputs": [],
   "metadata": {}
  },
  {
   "cell_type": "code",
   "execution_count": 6,
   "source": [
    "print(f'W = {model.W}, b = {model.b}, loss = {model.loss(x_train, y_train)}')"
   ],
   "outputs": [
    {
     "output_type": "stream",
     "name": "stdout",
     "text": [
      "W = tensor([[-19.8481]], requires_grad=True), b = tensor([[9.7214]], requires_grad=True), loss = 4.994739720132202e-05\n"
     ]
    }
   ],
   "metadata": {}
  },
  {
   "cell_type": "code",
   "execution_count": 7,
   "source": [
    "plt.figure(figsize=(6,6))\n",
    "plt.xlabel('x')\n",
    "plt.ylabel('y')\n",
    "\n",
    "x = torch.arange(0, 1, .005).reshape(-1,1)\n",
    "y = model.f(x).detach()\n",
    "\n",
    "plt.plot(x, y, c='b', label='Predicted values')\n",
    "plt.plot(x_train.detach(), y_train.detach(), 'o', c='orange', label='Test data')\n",
    "plt.text(0,0, f'W = {round(model.W.item(),2)}, b = {round(model.b.item(),2)}, loss = {round(model.loss(x_train, y_train).item(),5)}')\n",
    "plt.legend()\n",
    "plt.show()"
   ],
   "outputs": [
    {
     "output_type": "display_data",
     "data": {
      "image/png": "[encoded data removed]",
      "text/plain": [
       "<Figure size 432x432 with 1 Axes>"
      ]
     },
     "metadata": {
      "needs_background": "light"
     }
    }
   ],
   "metadata": {}
  }
 ],
 "metadata": {
  "orig_nbformat": 4,
  "language_info": {
   "name": "python",
   "version": "3.8.10",
   "mimetype": "text/x-python",
   "codemirror_mode": {
    "name": "ipython",
    "version": 3
   },
   "pygments_lexer": "ipython3",
   "nbconvert_exporter": "python",
   "file_extension": ".py"
  },
  "kernelspec": {
   "name": "python3",
   "display_name": "Python 3.8.10 64-bit"
  },
  "interpreter": {
   "hash": "916dbcbb3f70747c44a77c7bcd40155683ae19c65e1c03b4aa3499c5328201f1"
  }
 },
 "nbformat": 4,
 "nbformat_minor": 2
}