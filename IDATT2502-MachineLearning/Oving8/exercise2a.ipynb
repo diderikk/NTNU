{
 "cells": [
  {
   "cell_type": "code",
   "execution_count": 1,
   "metadata": {},
   "outputs": [
    {
     "name": "stdout",
     "output_type": "stream",
     "text": [
      "pygame 2.0.2 (SDL 2.0.16, Python 3.8.10)\n",
      "Hello from the pygame community. https://www.pygame.org/contribute.html\n"
     ]
    }
   ],
   "source": [
    "import numpy as np\n",
    "from time import sleep\n",
    "import random\n",
    "from environment import Environment\n",
    "import matplotlib.pyplot as plt"
   ]
  },
  {
   "cell_type": "code",
   "execution_count": 2,
   "metadata": {},
   "outputs": [],
   "source": [
    "env = Environment()\n",
    "q_table = np.random.uniform(low=-1, high=1, size=([len(env.rewards)] * 2 + [4]))\n",
    "\n",
    "lr = 0.1\n",
    "gamma = 0.95\n",
    "epsilon = 0.2"
   ]
  },
  {
   "cell_type": "code",
   "execution_count": 3,
   "metadata": {},
   "outputs": [],
   "source": [
    "all_epochs = []\n",
    "for i in range(1, 1500):\n",
    "\tstate = env.reset()\n",
    "\n",
    "\t\n",
    "\n",
    "\tepochs, reward = 0,0\n",
    "\taction = -1\n",
    "\tdone  = False\n",
    "\twhile not done:\n",
    "\t\tif(random.uniform(0, 1) < epsilon):\n",
    "\t\t\taction = env.random_action()\n",
    "\t\telse:\n",
    "\t\t\taction = np.argmax(q_table[state])\n",
    "\t\t\n",
    "\t\tnext_state, reward, done = env.step(action)\n",
    "\t\t\n",
    "\t\told_value = q_table[state + (action, )]\n",
    "\t\tnext_max = np.max(q_table[next_state])\n",
    "\t\tnew_value = (1-lr)*old_value + lr * (reward + gamma * next_max )\n",
    "\n",
    "\t\tq_table[state + (action, )] = new_value\n",
    "\t\tstate = next_state\n",
    "\t\tepochs +=1\n",
    "\n",
    "\tall_epochs.append(epochs)\n"
   ]
  },
  {
   "cell_type": "code",
   "execution_count": 4,
   "metadata": {},
   "outputs": [
    {
     "name": "stdout",
     "output_type": "stream",
     "text": [
      "5.267693487300359\n"
     ]
    },
    {
     "data": {
      "text/plain": [
       "[<matplotlib.lines.Line2D at 0x7f609e8a8d60>]"
      ]
     },
     "execution_count": 4,
     "metadata": {},
     "output_type": "execute_result"
    },
    {
     "data": {
      "image/png": "[encoded data removed]",
      "text/plain": [
       "<Figure size 432x288 with 1 Axes>"
      ]
     },
     "metadata": {
      "needs_background": "light"
     },
     "output_type": "display_data"
    }
   ],
   "source": [
    "print(np.max(q_table))\n",
    "plt.plot(all_epochs)"
   ]
  },
  {
   "cell_type": "code",
   "execution_count": 5,
   "metadata": {},
   "outputs": [],
   "source": [
    "# Evaluation\n",
    "env.render_train()\n",
    "env.render(q_table)"
   ]
  }
 ],
 "metadata": {
  "interpreter": {
   "hash": "916dbcbb3f70747c44a77c7bcd40155683ae19c65e1c03b4aa3499c5328201f1"
  },
  "kernelspec": {
   "display_name": "Python 3.8.10 64-bit",
   "name": "python3"
  },
  "language_info": {
   "codemirror_mode": {
    "name": "ipython",
    "version": 3
   },
   "file_extension": ".py",
   "mimetype": "text/x-python",
   "name": "python",
   "nbconvert_exporter": "python",
   "pygments_lexer": "ipython3",
   "version": "3.8.10"
  },
  "orig_nbformat": 4
 },
 "nbformat": 4,
 "nbformat_minor": 2
}
