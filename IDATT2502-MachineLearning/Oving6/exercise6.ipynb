{
 "cells": [
  {
   "cell_type": "code",
   "execution_count": 2,
   "source": [
    "import pandas as pd\n",
    "from sklearn.feature_selection import SelectPercentile, SelectKBest\n",
    "from sklearn.feature_selection import chi2\n",
    "from sklearn import decomposition, preprocessing\n",
    "\n",
    "import numpy as np"
   ],
   "outputs": [],
   "metadata": {}
  },
  {
   "cell_type": "code",
   "execution_count": 3,
   "source": [
    "data_frame = pd.read_csv(\"./agaricus-lepiota.data\")\n",
    "\n",
    "x, y = pd.get_dummies(data_frame.iloc[:, 1:]), data_frame['edibility']"
   ],
   "outputs": [],
   "metadata": {}
  },
  {
   "cell_type": "code",
   "execution_count": 4,
   "source": [
    "skb = SelectKBest(chi2, k=8)\n",
    "x_new = skb.fit_transform(x, y)\n",
    "\n",
    "# sp = SelectPercentile(chi2, percentile=5)\n",
    "# sp.fit(x, y)\n",
    "# x_new = sp.transform(x)\n",
    "\n",
    "\n",
    "selected = np.array(x.columns)[skb.get_support(indices=True)]\n",
    "print(selected)"
   ],
   "outputs": [
    {
     "output_type": "stream",
     "name": "stdout",
     "text": [
      "['odor_f' 'odor_n' 'gill-size_n' 'gill-color_b'\n",
      " 'stalk-surface-above-ring_k' 'stalk-surface-below-ring_k' 'ring-type_l'\n",
      " 'spore-print-color_h']\n"
     ]
    }
   ],
   "metadata": {}
  },
  {
   "cell_type": "code",
   "execution_count": 5,
   "source": [
    "data_scaled = pd.DataFrame(preprocessing.scale(x),columns = x.columns)\n",
    "\n",
    "pca = decomposition.PCA(n_components=8)\n",
    "pca.fit(x)\n",
    "x_pca = pca.transform(data_scaled)\n",
    "\n",
    "print(\"PCA space:\", x_pca.shape)\n",
    "best_features = [pca.components_[i].argmax() for i in range(x_pca.shape[1])]\n",
    "feature_names = [x.columns[best_features[i]] for i in range(x_pca.shape[1])]\n",
    "print(\"Features in which gives max variance:\", \", \".join(feature_names))\n",
    "\n",
    "# print(pd.DataFrame(pca.get_covariance(), columns=data_scaled.columns, index=data_scaled.columns))\n",
    "\n",
    "# print(pd.DataFrame(pca.components_.reshape(117, -1),columns=['PC-1','PC-2', 'PC-3', 'PC-4', 'PC-5', 'PC-6', 'PC-7', 'PC-8'],index = data_scaled.columns))"
   ],
   "outputs": [
    {
     "output_type": "stream",
     "name": "stdout",
     "text": [
      "PCA space: (8124, 8)\n",
      "Features in which gives max variance: bruises?_f, spore-print-color_h, habitat_g, stalk-shape_t, odor_n, cap-shape_f, cap-surface_s, cap-color_n\n"
     ]
    }
   ],
   "metadata": {}
  },
  {
   "cell_type": "code",
   "execution_count": 6,
   "source": [
    "set(selected).intersection(set(feature_names))"
   ],
   "outputs": [
    {
     "output_type": "execute_result",
     "data": {
      "text/plain": [
       "{'odor_n', 'spore-print-color_h'}"
      ]
     },
     "metadata": {},
     "execution_count": 6
    }
   ],
   "metadata": {}
  }
 ],
 "metadata": {
  "orig_nbformat": 4,
  "language_info": {
   "name": "python",
   "version": "3.8.10",
   "mimetype": "text/x-python",
   "codemirror_mode": {
    "name": "ipython",
    "version": 3
   },
   "pygments_lexer": "ipython3",
   "nbconvert_exporter": "python",
   "file_extension": ".py"
  },
  "kernelspec": {
   "name": "python3",
   "display_name": "Python 3.8.10 64-bit"
  },
  "interpreter": {
   "hash": "916dbcbb3f70747c44a77c7bcd40155683ae19c65e1c03b4aa3499c5328201f1"
  }
 },
 "nbformat": 4,
 "nbformat_minor": 2
}