{
 "cells": [
  {
   "cell_type": "code",
   "execution_count": 1,
   "source": [
    "import torch\n",
    "import torch.nn as nn\n",
    "import torchvision"
   ],
   "outputs": [],
   "metadata": {}
  },
  {
   "cell_type": "code",
   "execution_count": 3,
   "source": [
    "# Load observations from the mnist dataset. The observations are divided into a training set and a test set\n",
    "mnist_train = torchvision.datasets.MNIST('./data', train=True, download=True)\n",
    "x_train = mnist_train.data.reshape(-1, 1, 28, 28).float()  # torch.functional.nn.conv2d argument must include channels (1)\n",
    "y_train = torch.zeros((mnist_train.targets.shape[0], 10))  # Create output tensor\n",
    "y_train[torch.arange(mnist_train.targets.shape[0]), mnist_train.targets] = 1  # Populate output\n",
    "\n",
    "mnist_test = torchvision.datasets.MNIST('./data', train=False, download=True)\n",
    "x_test = mnist_test.data.reshape(-1, 1, 28, 28).float()  # torch.functional.nn.conv2d argument must include channels (1)\n",
    "y_test = torch.zeros((mnist_test.targets.shape[0], 10))  # Create output tensor\n",
    "y_test[torch.arange(mnist_test.targets.shape[0]), mnist_test.targets] = 1  # Populate output"
   ],
   "outputs": [],
   "metadata": {}
  },
  {
   "cell_type": "code",
   "execution_count": 4,
   "source": [
    "# Normalization of inputs\n",
    "mean = x_train.mean()\n",
    "std = x_train.std()\n",
    "# Standard score = x - mean / std\n",
    "x_train = (x_train - mean) / std\n",
    "x_test = (x_test - mean) / std\n",
    "\n",
    "# Divide training data into batches to speed up optimization\n",
    "batches = 600\n",
    "x_train_batches = torch.split(x_train, batches)\n",
    "y_train_batches = torch.split(y_train, batches)"
   ],
   "outputs": [],
   "metadata": {}
  },
  {
   "cell_type": "code",
   "execution_count": 5,
   "source": [
    "class SequentialCNNModel(nn.Module):\n",
    "\tdef __init__(self):\n",
    "\t\tsuper(SequentialCNNModel, self).__init__()\n",
    "\n",
    "\t\tself.logits = nn.Sequential(nn.Conv2d(1, 32, 5, padding=2), nn.MaxPool2d(2), nn.Conv2d(32, 64, 5, padding=2), nn.MaxPool2d(2), nn.Flatten(), nn.Linear(64 * 7 * 7, 10))\n",
    "\t\n",
    "\tdef f(self, x):\n",
    "\t\treturn torch.softmax(self.logits(x), dim=1)\n",
    "\t\n",
    "\tdef loss(self, x, y):\n",
    "\t\treturn nn.functional.cross_entropy(self.logits(x), y.argmax(1))\n",
    "\t\n",
    "\t# Accuracy\n",
    "\tdef accuracy(self, x, y):\n",
    "\t\treturn torch.mean(torch.eq(self.f(x).argmax(1), y.argmax(1)).float())"
   ],
   "outputs": [],
   "metadata": {}
  },
  {
   "cell_type": "code",
   "execution_count": 7,
   "source": [
    "model = SequentialCNNModel()\n",
    "\n",
    "# Optimize: adjust W and b to minimize loss using stochastic gradient descent\n",
    "optimizer = torch.optim.Adam(model.parameters(), 0.001)"
   ],
   "outputs": [],
   "metadata": {}
  },
  {
   "cell_type": "code",
   "execution_count": 8,
   "source": [
    "for epoch in range(5):\n",
    "    for batch in range(len(x_train_batches)):\n",
    "        model.loss(x_train_batches[batch], y_train_batches[batch]).backward()  # Compute loss gradients\n",
    "        optimizer.step()  # Perform optimization by adjusting W and b,\n",
    "        optimizer.zero_grad()  # Clear gradients for next step\n",
    "\n",
    "    print(\"accuracy = %s\" % model.accuracy(x_test, y_test))\n",
    "\n",
    "# 0.9857"
   ],
   "outputs": [
    {
     "output_type": "stream",
     "name": "stderr",
     "text": [
      "/home/diderikk/.local/lib/python3.8/site-packages/torch/nn/functional.py:718: UserWarning: Named tensors and all their associated APIs are an experimental feature and subject to change. Please do not use them for anything important until they are released as stable. (Triggered internally at  /pytorch/c10/core/TensorImpl.h:1156.)\n",
      "  return torch.max_pool2d(input, kernel_size, stride, padding, dilation, ceil_mode)\n"
     ]
    },
    {
     "output_type": "stream",
     "name": "stdout",
     "text": [
      "accuracy = tensor(0.9721)\n",
      "accuracy = tensor(0.9803)\n",
      "accuracy = tensor(0.9820)\n",
      "accuracy = tensor(0.9836)\n",
      "accuracy = tensor(0.9857)\n"
     ]
    }
   ],
   "metadata": {}
  }
 ],
 "metadata": {
  "orig_nbformat": 4,
  "language_info": {
   "name": "python",
   "version": "3.8.10",
   "mimetype": "text/x-python",
   "codemirror_mode": {
    "name": "ipython",
    "version": 3
   },
   "pygments_lexer": "ipython3",
   "nbconvert_exporter": "python",
   "file_extension": ".py"
  },
  "kernelspec": {
   "name": "python3",
   "display_name": "Python 3.8.10 64-bit"
  },
  "interpreter": {
   "hash": "916dbcbb3f70747c44a77c7bcd40155683ae19c65e1c03b4aa3499c5328201f1"
  }
 },
 "nbformat": 4,
 "nbformat_minor": 2
}