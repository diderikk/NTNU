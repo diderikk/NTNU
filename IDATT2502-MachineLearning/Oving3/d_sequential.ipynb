{
 "cells": [
  {
   "cell_type": "code",
   "execution_count": 77,
   "source": [
    "import torch\n",
    "import torch.nn as nn\n",
    "import torchvision"
   ],
   "outputs": [],
   "metadata": {}
  },
  {
   "cell_type": "code",
   "execution_count": 78,
   "source": [
    "mnist_train = torchvision.datasets.FashionMNIST('./data', train=True, download=True)\n",
    "x_train = mnist_train.data.reshape(-1, 1, 28, 28).float()  # torch.functional.nn.conv2d argument must include channels (1)\n",
    "y_train = torch.zeros((mnist_train.targets.shape[0], 10))  # Create output tensor\n",
    "y_train[torch.arange(mnist_train.targets.shape[0]), mnist_train.targets] = 1  # Populate output\n",
    "\n",
    "mnist_test = torchvision.datasets.FashionMNIST('./data', train=False, download=True)\n",
    "x_test = mnist_test.data.reshape(-1, 1, 28, 28).float()  # torch.functional.nn.conv2d argument must include channels (1)\n",
    "y_test = torch.zeros((mnist_test.targets.shape[0], 10))  # Create output tensor\n",
    "y_test[torch.arange(mnist_test.targets.shape[0]), mnist_test.targets] = 1  # Populate output\n"
   ],
   "outputs": [],
   "metadata": {}
  },
  {
   "cell_type": "code",
   "execution_count": 79,
   "source": [
    "# Normalization of inputs\n",
    "mean = x_train.mean()\n",
    "std = x_train.std()\n",
    "# Standard score = x - mean / std\n",
    "x_train = (x_train - mean) / std\n",
    "x_test = (x_test - mean) / std\n",
    "\n",
    "# Divide training data into batches to speed up optimization\n",
    "batches = 600\n",
    "x_train_batches = torch.split(x_train, batches)\n",
    "y_train_batches = torch.split(y_train, batches)"
   ],
   "outputs": [],
   "metadata": {}
  },
  {
   "cell_type": "code",
   "execution_count": 80,
   "source": [
    "class SequentialCNNModel(nn.Module):\n",
    "\tdef __init__(self):\n",
    "\t\tsuper(SequentialCNNModel, self).__init__()\n",
    "\n",
    "\t\tself.logits = nn.Sequential(\n",
    "\t\tnn.Conv2d(1, 32, 5, padding=2), \n",
    "\t\tnn.ReLU(),\n",
    "\t\tnn.MaxPool2d(2), \n",
    "\t\tnn.Conv2d(32, 64, 5, padding=2), \n",
    "\t\tnn.MaxPool2d(2),\n",
    "\t\tnn.Conv2d(64, 16, 4, padding=2), \n",
    "\t\tnn.Dropout(0.1),\n",
    "\t\tnn.ReLU(),\n",
    "\t\tnn.MaxPool2d(2),\n",
    "\t\tnn.Conv2d(16, 32, 4, padding=2),\n",
    "\t\tnn.MaxPool2d(2),\n",
    "\t\t# nn.Dropout(0.1),\n",
    "\t\tnn.Flatten(),\n",
    "\t\tnn.Linear(32 * 2 * 2, 1024), \n",
    "\t\tnn.Linear(1024, 10))\n",
    "\t\n",
    "\tdef f(self, x):\n",
    "\t\treturn torch.softmax(self.logits(x), dim=1)\n",
    "\t\n",
    "\tdef loss(self, x, y):\n",
    "\t\treturn nn.functional.cross_entropy(self.logits(x), y.argmax(1))\n",
    "\t\n",
    "\t# Accuracy\n",
    "\tdef accuracy(self, x, y):\n",
    "\t\treturn torch.mean(torch.eq(self.f(x).argmax(1), y.argmax(1)).float())"
   ],
   "outputs": [],
   "metadata": {}
  },
  {
   "cell_type": "code",
   "execution_count": 81,
   "source": [
    "model = SequentialCNNModel()\n",
    "\n",
    "optimizer = torch.optim.Adam(model.parameters(), lr=0.001)"
   ],
   "outputs": [],
   "metadata": {}
  },
  {
   "cell_type": "code",
   "execution_count": 82,
   "source": [
    "for epoch in range(10):\n",
    "    for batch in range(len(x_train_batches)):\n",
    "        model.loss(x_train_batches[batch], y_train_batches[batch]).backward()  # Compute loss gradients\n",
    "        optimizer.step()  # Perform optimization by adjusting W and b,\n",
    "        optimizer.zero_grad()  # Clear gradients for next step\n",
    "\n",
    "    print(\"accuracy = %s\" % model.accuracy(x_test, y_test).item())\n",
    "\n",
    "# 0.8810"
   ],
   "outputs": [
    {
     "output_type": "stream",
     "name": "stdout",
     "text": [
      "accuracy = 0.8029999732971191\n",
      "accuracy = 0.8442999720573425\n",
      "accuracy = 0.8628000020980835\n",
      "accuracy = 0.8834999799728394\n",
      "accuracy = 0.8851000070571899\n",
      "accuracy = 0.891700029373169\n",
      "accuracy = 0.8939999938011169\n",
      "accuracy = 0.899399995803833\n",
      "accuracy = 0.8991000056266785\n",
      "accuracy = 0.90420001745224\n"
     ]
    }
   ],
   "metadata": {}
  }
 ],
 "metadata": {
  "orig_nbformat": 4,
  "language_info": {
   "name": "python",
   "version": "3.8.10",
   "mimetype": "text/x-python",
   "codemirror_mode": {
    "name": "ipython",
    "version": 3
   },
   "pygments_lexer": "ipython3",
   "nbconvert_exporter": "python",
   "file_extension": ".py"
  },
  "kernelspec": {
   "name": "python3",
   "display_name": "Python 3.8.10 64-bit"
  },
  "interpreter": {
   "hash": "916dbcbb3f70747c44a77c7bcd40155683ae19c65e1c03b4aa3499c5328201f1"
  }
 },
 "nbformat": 4,
 "nbformat_minor": 2
}