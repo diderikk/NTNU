{
 "cells": [
  {
   "cell_type": "code",
   "execution_count": 73,
   "source": [
    "import torch\n",
    "import torchvision\n",
    "import math"
   ],
   "outputs": [],
   "metadata": {}
  },
  {
   "cell_type": "code",
   "execution_count": 74,
   "source": [
    "# Load observations from the mnist dataset. The observations are divided into a training set and a test set\n",
    "mnist_train = torchvision.datasets.MNIST('./data', train=True, download=True)\n",
    "x_train = mnist_train.data.reshape(-1, 1, 28, 28).float()  # torch.functional.nn.conv2d argument must include channels (1)\n",
    "y_train = torch.zeros((mnist_train.targets.shape[0], 10))  # Create output tensor\n",
    "y_train[torch.arange(mnist_train.targets.shape[0]), mnist_train.targets] = 1  # Populate output\n",
    "\n",
    "mnist_test = torchvision.datasets.MNIST('./data', train=False, download=True)\n",
    "x_test = mnist_test.data.reshape(-1, 1, 28, 28).float()  # torch.functional.nn.conv2d argument must include channels (1)\n",
    "y_test = torch.zeros((mnist_test.targets.shape[0], 10))  # Create output tensor\n",
    "y_test[torch.arange(mnist_test.targets.shape[0]), mnist_test.targets] = 1  # Populate output"
   ],
   "outputs": [],
   "metadata": {}
  },
  {
   "cell_type": "code",
   "execution_count": 75,
   "source": [
    "# Normalization of inputs\n",
    "mean = x_train.mean()\n",
    "std = x_train.std()\n",
    "# Standard score = x - mean / std\n",
    "x_train = (x_train - mean) / std\n",
    "x_test = (x_test - mean) / std\n",
    "\n",
    "# Divide training data into batches to speed up optimization\n",
    "batches = 600\n",
    "x_train_batches = torch.split(x_train, batches)\n",
    "y_train_batches = torch.split(y_train, batches)"
   ],
   "outputs": [],
   "metadata": {}
  },
  {
   "cell_type": "code",
   "execution_count": 76,
   "source": [
    "class ConvolutionalNeuralNetworkModel:\n",
    "\tdef __init__(self):\n",
    "\t\tstd = 1 / math.sqrt(1 * 5 * 5)\n",
    "\t\t# std = math.sqrt(6/(1 + 32)) # Xavier initializtion\n",
    "\t\t# 1 is the channel, 1 for greyscale and 3 for RGB \n",
    "\t\tself.W1 = (torch.randn(32, 1, 5, 5) * std).requires_grad_()  # Shape: (out_channels, in_channels, image height, image width)\n",
    "\t\tself.b1 = (torch.randn(32) * std).requires_grad_()\n",
    "\n",
    "\t\tstd = 1 / math.sqrt(32 * 5 * 5)\n",
    "\t\t# std = math.sqrt(6/(32 + 64)) # Xavier initializtion\n",
    "\t\tself.W2 = (torch.randn(64, 32, 5, 5) * std).requires_grad_()\n",
    "\t\tself.b2 = (torch.randn(64) * std).requires_grad_()\n",
    "\n",
    "\t\tstd = 1 / math.sqrt(64 * 5 * 5)\n",
    "\t\tself.W3 = (torch.randn(16, 64, 4, 4) * std).requires_grad_()\n",
    "\t\tself.b3 = (torch.randn(16) * std).requires_grad_()\n",
    "\n",
    "\t\tstd = 1 / math.sqrt(16 * 4 * 4)\n",
    "\t\t# std = math.sqrt(6/(64*7*7 + 10)) # Xavier initialization\n",
    "\t\tself.W4 = (torch.randn(16 * 4 * 4, 1024) * std).requires_grad_()  # Shape: (in_channels * image_pixels_after_max_pool, classes)\n",
    "\t\tself.b4 = (torch.randn(1024) * std).requires_grad_()\n",
    "\n",
    "\t\tstd = 1 / math.sqrt(1024)\n",
    "\t\tself.W5 = (torch.randn(1024, 10) * std).requires_grad_()\n",
    "\t\tself.b5= (torch.randn(10) * std).requires_grad_()\n",
    "\n",
    "\tdef parameters(self):\n",
    "\t\treturn [self.W1, self.b1, self.W2, self.b2, self.W3, self.b3, self.W4, self.b4]\n",
    "\n",
    "\tdef logits(self, x):\n",
    "\t\tx = torch.nn.functional.conv2d(x, self.W1, self.b1, padding=2)\n",
    "\t\tx = torch.nn.functional.relu(x)\n",
    "\t\tx = torch.nn.functional.max_pool2d(x, kernel_size=2)\n",
    "\t\t# x = torch.nn.functional.dropout(x, p=0.25)\n",
    "\t\tx = torch.nn.functional.conv2d(x, self.W2, self.b2, padding=2)\n",
    "\t\tx = torch.nn.functional.relu(x)\n",
    "\t\tx = torch.nn.functional.max_pool2d(x, kernel_size=2)\n",
    "\t\t# x = torch.nn.functional.dropout(x, p=0.10)\n",
    "\t\tx = torch.nn.functional.conv2d(x, self.W3, self.b3, padding=2)\n",
    "\t\tx = torch.nn.functional.relu(x)\n",
    "\t\tx = torch.nn.functional.max_pool2d(x, kernel_size=2)\n",
    "\t\tx = x.reshape(-1, 16 * 4 * 4) @ self.W4 + self.b4\n",
    "\t\treturn x @ self.W5 + self.b5\n",
    "\n",
    "\t# Predictor\n",
    "\tdef f(self, x):\n",
    "\t\treturn torch.softmax(self.logits(x), dim=1)\n",
    "\n",
    "\t# Cross Entropy loss\n",
    "\tdef loss(self, x, y):\n",
    "\t\treturn torch.nn.functional.cross_entropy(self.logits(x), y.argmax(1))\n",
    "\n",
    "\t# Accuracy\n",
    "\tdef accuracy(self, x, y):\n",
    "\t\treturn torch.mean(torch.eq(self.f(x).argmax(1), y.argmax(1)).float())"
   ],
   "outputs": [],
   "metadata": {}
  },
  {
   "cell_type": "code",
   "execution_count": 77,
   "source": [
    "model = ConvolutionalNeuralNetworkModel()\n",
    "\n",
    "optimizer = torch.optim.Adam(model.parameters(), lr=0.001)"
   ],
   "outputs": [],
   "metadata": {}
  },
  {
   "cell_type": "code",
   "execution_count": 78,
   "source": [
    "for epoch in range(5):\n",
    "    for batch in range(len(x_train_batches)):\n",
    "        model.loss(x_train_batches[batch], y_train_batches[batch]).backward()  # Compute loss gradients\n",
    "        optimizer.step()  # Perform optimization by adjusting W and b,\n",
    "        optimizer.zero_grad()  # Clear gradients for next step\n",
    "\n",
    "    print(\"accuracy = %s\" % model.accuracy(x_test, y_test).item())\n",
    "\n",
    "# Accuracy: 0.9867\n",
    "# Accuracy with only ReLU: 0.9890\n",
    "# Accuracy with ReLU and dropout: 0.9854\n",
    "# Accuracy with only dropout: 0.9842"
   ],
   "outputs": [
    {
     "output_type": "stream",
     "name": "stdout",
     "text": [
      "accuracy = 0.9711999893188477\n",
      "accuracy = 0.9828000068664551\n",
      "accuracy = 0.9866999983787537\n",
      "accuracy = 0.9890000224113464\n",
      "accuracy = 0.9869999885559082\n"
     ]
    }
   ],
   "metadata": {}
  }
 ],
 "metadata": {
  "orig_nbformat": 4,
  "language_info": {
   "name": "python",
   "version": "3.8.10",
   "mimetype": "text/x-python",
   "codemirror_mode": {
    "name": "ipython",
    "version": 3
   },
   "pygments_lexer": "ipython3",
   "nbconvert_exporter": "python",
   "file_extension": ".py"
  },
  "kernelspec": {
   "name": "python3",
   "display_name": "Python 3.8.10 64-bit"
  },
  "interpreter": {
   "hash": "916dbcbb3f70747c44a77c7bcd40155683ae19c65e1c03b4aa3499c5328201f1"
  }
 },
 "nbformat": 4,
 "nbformat_minor": 2
}